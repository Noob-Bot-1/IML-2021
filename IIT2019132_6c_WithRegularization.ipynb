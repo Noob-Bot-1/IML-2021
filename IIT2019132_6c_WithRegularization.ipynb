{
  "nbformat": 4,
  "nbformat_minor": 0,
  "metadata": {
    "colab": {
      "name": "IIT2019132_6c_WithRegularization.ipynb",
      "provenance": [],
      "mount_file_id": "1M0TtCvYez3TYTVNDC00mrlpBBa1Vq37h",
      "authorship_tag": "ABX9TyOf9vfL4bp9lF9TIvu/zT/i",
      "include_colab_link": true
    },
    "kernelspec": {
      "name": "python3",
      "display_name": "Python 3"
    },
    "language_info": {
      "name": "python"
    }
  },
  "cells": [
    {
      "cell_type": "markdown",
      "metadata": {
        "id": "view-in-github",
        "colab_type": "text"
      },
      "source": [
        "<a href=\"https://colab.research.google.com/github/Noob-Bot-1/IML-2021/blob/main/IIT2019132_6c_WithRegularization.ipynb\" target=\"_parent\"><img src=\"https://colab.research.google.com/assets/colab-badge.svg\" alt=\"Open In Colab\"/></a>"
      ]
    },
    {
      "cell_type": "code",
      "metadata": {
        "id": "GXM7KqAYyiY3"
      },
      "source": [
        "import numpy as np\n",
        "import pandas as pd\n",
        "import math"
      ],
      "execution_count": 1,
      "outputs": []
    },
    {
      "cell_type": "code",
      "metadata": {
        "colab": {
          "base_uri": "https://localhost:8080/",
          "height": 456
        },
        "id": "RcZdj4Ggyyog",
        "outputId": "d95bb362-d1c5-4259-e7c4-fdb65278c64e"
      },
      "source": [
        "house_data = pd.read_csv(\"/content/drive/MyDrive/ML/Housing Price data set.csv\")\n",
        "house_data"
      ],
      "execution_count": 2,
      "outputs": [
        {
          "output_type": "execute_result",
          "data": {
            "text/html": [
              "<div>\n",
              "<style scoped>\n",
              "    .dataframe tbody tr th:only-of-type {\n",
              "        vertical-align: middle;\n",
              "    }\n",
              "\n",
              "    .dataframe tbody tr th {\n",
              "        vertical-align: top;\n",
              "    }\n",
              "\n",
              "    .dataframe thead th {\n",
              "        text-align: right;\n",
              "    }\n",
              "</style>\n",
              "<table border=\"1\" class=\"dataframe\">\n",
              "  <thead>\n",
              "    <tr style=\"text-align: right;\">\n",
              "      <th></th>\n",
              "      <th>Unnamed: 0</th>\n",
              "      <th>price</th>\n",
              "      <th>lotsize</th>\n",
              "      <th>bedrooms</th>\n",
              "      <th>bathrms</th>\n",
              "      <th>stories</th>\n",
              "      <th>driveway</th>\n",
              "      <th>recroom</th>\n",
              "      <th>fullbase</th>\n",
              "      <th>gashw</th>\n",
              "      <th>airco</th>\n",
              "      <th>garagepl</th>\n",
              "      <th>prefarea</th>\n",
              "    </tr>\n",
              "  </thead>\n",
              "  <tbody>\n",
              "    <tr>\n",
              "      <th>0</th>\n",
              "      <td>1</td>\n",
              "      <td>42000.0</td>\n",
              "      <td>5850</td>\n",
              "      <td>3</td>\n",
              "      <td>1</td>\n",
              "      <td>2</td>\n",
              "      <td>yes</td>\n",
              "      <td>no</td>\n",
              "      <td>yes</td>\n",
              "      <td>no</td>\n",
              "      <td>no</td>\n",
              "      <td>1</td>\n",
              "      <td>no</td>\n",
              "    </tr>\n",
              "    <tr>\n",
              "      <th>1</th>\n",
              "      <td>2</td>\n",
              "      <td>38500.0</td>\n",
              "      <td>4000</td>\n",
              "      <td>2</td>\n",
              "      <td>1</td>\n",
              "      <td>1</td>\n",
              "      <td>yes</td>\n",
              "      <td>no</td>\n",
              "      <td>no</td>\n",
              "      <td>no</td>\n",
              "      <td>no</td>\n",
              "      <td>0</td>\n",
              "      <td>no</td>\n",
              "    </tr>\n",
              "    <tr>\n",
              "      <th>2</th>\n",
              "      <td>3</td>\n",
              "      <td>49500.0</td>\n",
              "      <td>3060</td>\n",
              "      <td>3</td>\n",
              "      <td>1</td>\n",
              "      <td>1</td>\n",
              "      <td>yes</td>\n",
              "      <td>no</td>\n",
              "      <td>no</td>\n",
              "      <td>no</td>\n",
              "      <td>no</td>\n",
              "      <td>0</td>\n",
              "      <td>no</td>\n",
              "    </tr>\n",
              "    <tr>\n",
              "      <th>3</th>\n",
              "      <td>4</td>\n",
              "      <td>60500.0</td>\n",
              "      <td>6650</td>\n",
              "      <td>3</td>\n",
              "      <td>1</td>\n",
              "      <td>2</td>\n",
              "      <td>yes</td>\n",
              "      <td>yes</td>\n",
              "      <td>no</td>\n",
              "      <td>no</td>\n",
              "      <td>no</td>\n",
              "      <td>0</td>\n",
              "      <td>no</td>\n",
              "    </tr>\n",
              "    <tr>\n",
              "      <th>4</th>\n",
              "      <td>5</td>\n",
              "      <td>61000.0</td>\n",
              "      <td>6360</td>\n",
              "      <td>2</td>\n",
              "      <td>1</td>\n",
              "      <td>1</td>\n",
              "      <td>yes</td>\n",
              "      <td>no</td>\n",
              "      <td>no</td>\n",
              "      <td>no</td>\n",
              "      <td>no</td>\n",
              "      <td>0</td>\n",
              "      <td>no</td>\n",
              "    </tr>\n",
              "    <tr>\n",
              "      <th>...</th>\n",
              "      <td>...</td>\n",
              "      <td>...</td>\n",
              "      <td>...</td>\n",
              "      <td>...</td>\n",
              "      <td>...</td>\n",
              "      <td>...</td>\n",
              "      <td>...</td>\n",
              "      <td>...</td>\n",
              "      <td>...</td>\n",
              "      <td>...</td>\n",
              "      <td>...</td>\n",
              "      <td>...</td>\n",
              "      <td>...</td>\n",
              "    </tr>\n",
              "    <tr>\n",
              "      <th>541</th>\n",
              "      <td>542</td>\n",
              "      <td>91500.0</td>\n",
              "      <td>4800</td>\n",
              "      <td>3</td>\n",
              "      <td>2</td>\n",
              "      <td>4</td>\n",
              "      <td>yes</td>\n",
              "      <td>yes</td>\n",
              "      <td>no</td>\n",
              "      <td>no</td>\n",
              "      <td>yes</td>\n",
              "      <td>0</td>\n",
              "      <td>no</td>\n",
              "    </tr>\n",
              "    <tr>\n",
              "      <th>542</th>\n",
              "      <td>543</td>\n",
              "      <td>94000.0</td>\n",
              "      <td>6000</td>\n",
              "      <td>3</td>\n",
              "      <td>2</td>\n",
              "      <td>4</td>\n",
              "      <td>yes</td>\n",
              "      <td>no</td>\n",
              "      <td>no</td>\n",
              "      <td>no</td>\n",
              "      <td>yes</td>\n",
              "      <td>0</td>\n",
              "      <td>no</td>\n",
              "    </tr>\n",
              "    <tr>\n",
              "      <th>543</th>\n",
              "      <td>544</td>\n",
              "      <td>103000.0</td>\n",
              "      <td>6000</td>\n",
              "      <td>3</td>\n",
              "      <td>2</td>\n",
              "      <td>4</td>\n",
              "      <td>yes</td>\n",
              "      <td>yes</td>\n",
              "      <td>no</td>\n",
              "      <td>no</td>\n",
              "      <td>yes</td>\n",
              "      <td>1</td>\n",
              "      <td>no</td>\n",
              "    </tr>\n",
              "    <tr>\n",
              "      <th>544</th>\n",
              "      <td>545</td>\n",
              "      <td>105000.0</td>\n",
              "      <td>6000</td>\n",
              "      <td>3</td>\n",
              "      <td>2</td>\n",
              "      <td>2</td>\n",
              "      <td>yes</td>\n",
              "      <td>yes</td>\n",
              "      <td>no</td>\n",
              "      <td>no</td>\n",
              "      <td>yes</td>\n",
              "      <td>1</td>\n",
              "      <td>no</td>\n",
              "    </tr>\n",
              "    <tr>\n",
              "      <th>545</th>\n",
              "      <td>546</td>\n",
              "      <td>105000.0</td>\n",
              "      <td>6000</td>\n",
              "      <td>3</td>\n",
              "      <td>1</td>\n",
              "      <td>2</td>\n",
              "      <td>yes</td>\n",
              "      <td>no</td>\n",
              "      <td>no</td>\n",
              "      <td>no</td>\n",
              "      <td>yes</td>\n",
              "      <td>1</td>\n",
              "      <td>no</td>\n",
              "    </tr>\n",
              "  </tbody>\n",
              "</table>\n",
              "<p>546 rows × 13 columns</p>\n",
              "</div>"
            ],
            "text/plain": [
              "     Unnamed: 0     price  lotsize  bedrooms  ...  gashw  airco garagepl prefarea\n",
              "0             1   42000.0     5850         3  ...     no     no        1       no\n",
              "1             2   38500.0     4000         2  ...     no     no        0       no\n",
              "2             3   49500.0     3060         3  ...     no     no        0       no\n",
              "3             4   60500.0     6650         3  ...     no     no        0       no\n",
              "4             5   61000.0     6360         2  ...     no     no        0       no\n",
              "..          ...       ...      ...       ...  ...    ...    ...      ...      ...\n",
              "541         542   91500.0     4800         3  ...     no    yes        0       no\n",
              "542         543   94000.0     6000         3  ...     no    yes        0       no\n",
              "543         544  103000.0     6000         3  ...     no    yes        1       no\n",
              "544         545  105000.0     6000         3  ...     no    yes        1       no\n",
              "545         546  105000.0     6000         3  ...     no    yes        1       no\n",
              "\n",
              "[546 rows x 13 columns]"
            ]
          },
          "metadata": {},
          "execution_count": 2
        }
      ]
    },
    {
      "cell_type": "code",
      "metadata": {
        "colab": {
          "base_uri": "https://localhost:8080/"
        },
        "id": "UcW8DVDly20w",
        "outputId": "61572e0e-5b26-4353-8a72-af3707c17c3c"
      },
      "source": [
        "house_data.columns"
      ],
      "execution_count": 3,
      "outputs": [
        {
          "output_type": "execute_result",
          "data": {
            "text/plain": [
              "Index(['Unnamed: 0', 'price', 'lotsize', 'bedrooms', 'bathrms', 'stories',\n",
              "       'driveway', 'recroom', 'fullbase', 'gashw', 'airco', 'garagepl',\n",
              "       'prefarea'],\n",
              "      dtype='object')"
            ]
          },
          "metadata": {},
          "execution_count": 3
        }
      ]
    },
    {
      "cell_type": "code",
      "metadata": {
        "id": "YoSM1Sguy9SJ"
      },
      "source": [
        "#Dividing each useful column from the data\n",
        "Price = house_data['price']\n",
        "FloorArea = house_data['lotsize']\n",
        "NoOfBedrooms = house_data['bedrooms']\n",
        "NoOfBathrooms = house_data['bathrms']"
      ],
      "execution_count": 4,
      "outputs": []
    },
    {
      "cell_type": "code",
      "metadata": {
        "id": "4euFWxmuy_6h"
      },
      "source": [
        "# Performing feature scanning on FloorArea\n",
        "FloorArea_Mean = np.mean(FloorArea)\n",
        "FloorArea_Max = max(FloorArea)\n",
        "FloorArea_Min = min(FloorArea)\n",
        "FloorArea_Scaled = []\n",
        "for i in FloorArea:\n",
        "\tFloorArea_Scaled.append((i - FloorArea_Mean) / (FloorArea_Max - FloorArea_Min))"
      ],
      "execution_count": 22,
      "outputs": []
    },
    {
      "cell_type": "code",
      "metadata": {
        "id": "W9nUrM_CzPEq"
      },
      "source": [
        "#Segmenting the features\n",
        "FeaturesTrain = []\n",
        "for i in range(500):\n",
        "\tFeaturesTrain.append([1, FloorArea_Scaled[i], NoOfBedrooms[i], NoOfBathrooms[i]])\n",
        "PriceTrain = Price[:500]\n",
        "PriceTest = []\n",
        "FeaturesTest = []\n",
        "for i in range(500, len(Price)):\n",
        "\tFeaturesTest.append([1, FloorArea_Scaled[i], NoOfBedrooms[i], NoOfBathrooms[i]])\n",
        "\tPriceTest.append(Price[i])\n",
        "m = len(FeaturesTrain)"
      ],
      "execution_count": 23,
      "outputs": []
    },
    {
      "cell_type": "code",
      "metadata": {
        "id": "WMJ-HfuozR5o"
      },
      "source": [
        "#Function to calculate Scaled Slope to find coefficients\n",
        "def Slope(Coeff, FeaturesTrain, PriceTrain, ind):\n",
        "\tError = 0\n",
        "\tfor i in range(len(FeaturesTrain)):\n",
        "\t\titr = 0\n",
        "\t\tfor j in range(len(Coeff)):\n",
        "\t\t\titr = itr + Coeff[j] * FeaturesTrain[i][j]\n",
        "\t\tError += (itr - PriceTrain[i]) * FeaturesTrain[i][ind]\n",
        "\treturn Error\n"
      ],
      "execution_count": 24,
      "outputs": []
    },
    {
      "cell_type": "code",
      "metadata": {
        "colab": {
          "base_uri": "https://localhost:8080/"
        },
        "id": "cToumW3TzeFH",
        "outputId": "dc258b7e-8260-45cc-e50f-78f4a9ccba0a"
      },
      "source": [
        "# Using scaled batch gradient\n",
        "print(\"Using scaled batch gradient\")\n",
        "LearningRate = 0.001\n",
        "LambdaParameter = -200\n",
        "Coeff = [0, 0, 0, 0]\n",
        "\n",
        "for epochs in range(500):\n",
        "\tTempCoeff = Coeff.copy()\n",
        "\tfor j in range(len(Coeff)):\n",
        "\t\tif (j == 0):\n",
        "\t\t\tTempCoeff[j] = TempCoeff[j] - ((LearningRate / m) * (Slope(Coeff, FeaturesTrain, PriceTrain, j)))\t\n",
        "\t\telse:\n",
        "\t\t\tTempCoeff[j] = (1 - LearningRate * LambdaParameter / m) * TempCoeff[j] - ((LearningRate / m) * (Slope(Coeff, FeaturesTrain, PriceTrain, j)))\n",
        "\tCoeff = TempCoeff.copy()\n",
        "print(\"Final coefficients are:\")\n",
        "print(Coeff)\n",
        "\n",
        "# Finding Mean absolute percentage error.\n",
        "Error = 0\n",
        "for i in range(len(FeaturesTest)):\n",
        "\tpredicted = 0\n",
        "\tfor j in range(len(Coeff)):\n",
        "\t  \tpredicted = predicted + Coeff[j] * FeaturesTest[i][j]\n",
        "\tError += abs(predicted - PriceTest[i]) / PriceTest[i]\n",
        "Error = (Error / len(FeaturesTest)) * 100\n",
        "print(\"Mean absolute percentage error is : \" + str(Error))"
      ],
      "execution_count": 36,
      "outputs": [
        {
          "output_type": "stream",
          "name": "stdout",
          "text": [
            "Using scaled batch gradient\n",
            "Final coefficients are:\n",
            "[5159.936515597131, 969.4614637399126, 17169.065016048593, 9399.533115322818]\n",
            "Mean absolute percentage error is : 19.67045546426377\n"
          ]
        }
      ]
    },
    {
      "cell_type": "code",
      "metadata": {
        "id": "6KePdtci0GGt"
      },
      "source": [
        "#Function to calculate Stochastic Slope to find coefficients\n",
        "def SlopeStoch(Coeff,FeaturesTrain,ActualVal,ind):\n",
        "\titr = 0\n",
        "\tfor j in range(len(Coeff)):\n",
        "\t\titr = itr + Coeff[j]*FeaturesTrain[j]\n",
        "\treturn (itr - ActualVal) * FeaturesTrain[ind]"
      ],
      "execution_count": 32,
      "outputs": []
    },
    {
      "cell_type": "code",
      "metadata": {
        "colab": {
          "base_uri": "https://localhost:8080/"
        },
        "id": "IUlrjk0Z0Imb",
        "outputId": "4bf00663-9901-4b61-d29e-da566fa74135"
      },
      "source": [
        "# Using Scaled Stochastic gradient\n",
        "print(\"Using Stochastic gradient\")\n",
        "LearningRate = 0.002\n",
        "LambdaParameter = -200\n",
        "Coeff = [0, 0, 0, 0]\n",
        "\n",
        "y = LearningRate*LambdaParameter\n",
        "y = 1-y\n",
        "for iter in range(10):\n",
        "\tfor i in range(len(PriceTrain)):\n",
        "\t\tfor j in range(4):\n",
        "\t\t\tif j == 0:\n",
        "\t\t\t\tTempCoeff[j] = Coeff[j] - (LearningRate * (SlopeStoch(Coeff, FeaturesTrain[i], PriceTrain[i], j)))\n",
        "\t\t\telse:\n",
        "\t\t\t\tTempCoeff[j] = (y*Coeff[j]) - (LearningRate * (SlopeStoch(Coeff, FeaturesTrain[i], PriceTrain[i], j)))\n",
        "\t\tCoeff = TempCoeff.copy()\n",
        "print(\"Final coefficients are:\")\n",
        "print(Coeff)\n",
        "\n",
        "\n",
        "# Finding Mean absolute percentage error.\n",
        "Error = 0\n",
        "for i in range(len(FeaturesTest)):\n",
        "\tpredicted = 0\n",
        "\tfor j in range(len(Coeff)):\n",
        "\t  \tpredicted = predicted + Coeff[j] * FeaturesTest[i][j]\n",
        "\tError += abs(predicted - PriceTest[i]) / PriceTest[i]\n",
        "Error = (Error / len(FeaturesTest)) * 100\n",
        "print(\"Mean absolute percentage error is : \" + str(Error))"
      ],
      "execution_count": 49,
      "outputs": [
        {
          "output_type": "stream",
          "name": "stdout",
          "text": [
            "Using Stochastic gradient\n",
            "Final coefficients are:\n",
            "[nan, nan, nan, nan]\n",
            "Mean absolute percentage error is : nan\n"
          ]
        },
        {
          "output_type": "stream",
          "name": "stderr",
          "text": [
            "/usr/local/lib/python3.7/dist-packages/ipykernel_launcher.py:6: RuntimeWarning: overflow encountered in double_scalars\n",
            "  \n",
            "/usr/local/lib/python3.7/dist-packages/ipykernel_launcher.py:5: RuntimeWarning: overflow encountered in double_scalars\n",
            "  \"\"\"\n",
            "/usr/local/lib/python3.7/dist-packages/ipykernel_launcher.py:5: RuntimeWarning: invalid value encountered in double_scalars\n",
            "  \"\"\"\n"
          ]
        }
      ]
    },
    {
      "cell_type": "code",
      "metadata": {
        "colab": {
          "base_uri": "https://localhost:8080/"
        },
        "id": "QCvT9NFD5-E0",
        "outputId": "cabb7dad-0e60-47be-b2ba-f54f9f264baf"
      },
      "source": [
        "# Using Scaled Minibatch gradient for batch size = 30\n",
        "print(\"Using Scaled Minibatch gradient for batch size = 30\")\n",
        "\n",
        "BatchSize = 30;\n",
        "LearningRate = 0.002\n",
        "LambdaParameter = -200\n",
        "Coeff = [0, 0, 0, 0]\n",
        "NoOfBatches = math.ceil(len(PriceTrain) / BatchSize)\n",
        "equallyDiv = False\n",
        "if (len(PriceTrain) % BatchSize == 0):\n",
        "\tequallyDiv = True;\n",
        "\n",
        "for epoch in range(30):\n",
        "\tfor batch in range(NoOfBatches):\n",
        "\t\tSummation = [0, 0, 0, 0]\n",
        "\t\tfor j in range(len(Coeff)):\n",
        "\t\t\tfor i in range(BatchSize):\n",
        "\t\t\t\tif (batch * BatchSize + i == len(FeaturesTrain)):\n",
        "\t\t\t\t\tbreak\n",
        "\t\t\t\tPredictedValue = 0.0\n",
        "\t\t\t\tfor wj in range(len(Coeff)):\n",
        "\t\t\t\t\tPredictedValue += Coeff[wj] * FeaturesTrain[batch * BatchSize + i][wj]\n",
        "\t\t\t\tPredictedValue -= PriceTrain[batch * BatchSize + i]\n",
        "\t\t\t\tPredictedValue *= FeaturesTrain[batch * BatchSize + i][j]\n",
        "\t\t\t\tSummation[j] += PredictedValue;\n",
        "\n",
        "\t\tif (not equallyDiv and batch == NoOfBatches - 1):\n",
        "\t\t\tfor j in range(len(Summation)):\n",
        "\t\t\t\tif j == 0:\n",
        "\t\t\t\t\tCoeff[j] -= (Summation[j] / (len(PriceTrain) % BatchSize)) * LearningRate\n",
        "\t\t\t\telse:\n",
        "\t\t\t\t\tCoeff[j] = (1 - LearningRate * LambdaParameter / m) * Coeff[j] - (Summation[j] / (len(PriceTrain) % BatchSize)) * LearningRate\n",
        "\t\telse:\n",
        "\t\t\tfor j in range(len(Summation)):\n",
        "\t\t\t\tif j == 0:\n",
        "\t\t\t\t\tCoeff[j] -= (Summation[j] / BatchSize) * LearningRate\n",
        "\t\t\t\telse:\n",
        "\t\t\t\t\tCoeff[j] = (1 - LearningRate * LambdaParameter / m) * Coeff[j] - (Summation[j] / BatchSize) * LearningRate\n",
        "print(\"Final coefficients are:\")\n",
        "print(Coeff)\n",
        "\n",
        "# Finding Mean absolute percentage error.\n",
        "Error = 0\n",
        "for i in range(len(FeaturesTest)):\n",
        "\tpredicted = 0\n",
        "\tfor j in range(len(Coeff)):\n",
        "\t  \tpredicted = predicted + Coeff[j] * FeaturesTest[i][j]\n",
        "\tError += abs(predicted - PriceTest[i]) / PriceTest[i]\n",
        "Error = (Error / len(FeaturesTest)) * 100\n",
        "print(\"Mean absolute percentage error is : \" + str(Error))\n",
        "print()"
      ],
      "execution_count": 46,
      "outputs": [
        {
          "output_type": "stream",
          "name": "stdout",
          "text": [
            "Using Scaled Minibatch gradient for batch size = 30\n",
            "Final coefficients are:\n",
            "[4487.995623465271, 2114.253696359352, 16817.4711285676, 11641.033675783994]\n",
            "Mean absolute percentage error is : 18.361536401321786\n",
            "\n"
          ]
        }
      ]
    }
  ]
}